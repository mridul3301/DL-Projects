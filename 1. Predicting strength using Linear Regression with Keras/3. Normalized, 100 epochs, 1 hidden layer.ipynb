{
 "cells": [
  {
   "cell_type": "markdown",
   "metadata": {
    "collapsed": true
   },
   "source": [
    "<p style=\"text-align:center\">\n",
    "    <a href=\"https://skills.network/?utm_medium=Exinfluencer&utm_source=Exinfluencer&utm_content=000026UJ&utm_term=10006555&utm_id=NA-SkillsNetwork-Channel-SkillsNetworkCoursesIBMDeveloperSkillsNetworkML0101ENSkillsNetwork20718538-2022-01-01\" target=\"_blank\">\n",
    "    <img src=\"https://cf-courses-data.s3.us.cloud-object-storage.appdomain.cloud/assets/logos/SN_web_lightmode.png\" width=\"200\" alt=\"Skills Network Logo\"  />\n",
    "    </a>\n",
    "</p>\n",
    "\n",
    "<h1 align=\"center\"><font size=\"5\">Building Regression Model In Keras Part C</font></h1>\n",
    "<h1 align=\"center\"><font size=\"3\">Mridul Sharma</font></h1>\n"
   ]
  },
  {
   "cell_type": "markdown",
   "metadata": {},
   "source": [
    "Let's first load required libraries:"
   ]
  },
  {
   "cell_type": "code",
   "execution_count": 1,
   "metadata": {},
   "outputs": [],
   "source": [
    "#importing necessary packages\n",
    "import numpy as np\n",
    "import matplotlib.pyplot as plt\n",
    "import pandas as pd\n",
    "%matplotlib inline"
   ]
  },
  {
   "cell_type": "code",
   "execution_count": 2,
   "metadata": {},
   "outputs": [],
   "source": [
    "#notice: Disable all warnings \n",
    "import warnings\n",
    "warnings.filterwarnings('ignore')"
   ]
  },
  {
   "cell_type": "markdown",
   "metadata": {},
   "source": [
    "Let's load the dataset"
   ]
  },
  {
   "cell_type": "code",
   "execution_count": 3,
   "metadata": {},
   "outputs": [
    {
     "name": "stdout",
     "output_type": "stream",
     "text": [
      "--2022-11-07 20:44:30--  https://s3-api.us-geo.objectstorage.softlayer.net/cf-courses-data/CognitiveClass/DL0101EN/labs/data/concrete_data.csv\n",
      "Resolving s3-api.us-geo.objectstorage.softlayer.net (s3-api.us-geo.objectstorage.softlayer.net)... 67.228.254.196\n",
      "Connecting to s3-api.us-geo.objectstorage.softlayer.net (s3-api.us-geo.objectstorage.softlayer.net)|67.228.254.196|:443... connected.\n",
      "HTTP request sent, awaiting response... 200 OK\n",
      "Length: 58988 (58K) [text/csv]\n",
      "Saving to: ‘concrete_data.csv’\n",
      "\n",
      "concrete_data.csv   100%[===================>]  57.61K   332KB/s    in 0.2s    \n",
      "\n",
      "2022-11-07 20:44:31 (332 KB/s) - ‘concrete_data.csv’ saved [58988/58988]\n",
      "\n"
     ]
    }
   ],
   "source": [
    "!wget -O concrete_data.csv https://s3-api.us-geo.objectstorage.softlayer.net/cf-courses-data/CognitiveClass/DL0101EN/labs/data/concrete_data.csv"
   ]
  },
  {
   "cell_type": "markdown",
   "metadata": {},
   "source": [
    "### Load Data from CSV file"
   ]
  },
  {
   "cell_type": "code",
   "execution_count": 4,
   "metadata": {},
   "outputs": [
    {
     "data": {
      "text/html": [
       "<div>\n",
       "<style scoped>\n",
       "    .dataframe tbody tr th:only-of-type {\n",
       "        vertical-align: middle;\n",
       "    }\n",
       "\n",
       "    .dataframe tbody tr th {\n",
       "        vertical-align: top;\n",
       "    }\n",
       "\n",
       "    .dataframe thead th {\n",
       "        text-align: right;\n",
       "    }\n",
       "</style>\n",
       "<table border=\"1\" class=\"dataframe\">\n",
       "  <thead>\n",
       "    <tr style=\"text-align: right;\">\n",
       "      <th></th>\n",
       "      <th>Cement</th>\n",
       "      <th>Blast Furnace Slag</th>\n",
       "      <th>Fly Ash</th>\n",
       "      <th>Water</th>\n",
       "      <th>Superplasticizer</th>\n",
       "      <th>Coarse Aggregate</th>\n",
       "      <th>Fine Aggregate</th>\n",
       "      <th>Age</th>\n",
       "      <th>Strength</th>\n",
       "    </tr>\n",
       "  </thead>\n",
       "  <tbody>\n",
       "    <tr>\n",
       "      <th>0</th>\n",
       "      <td>540.0</td>\n",
       "      <td>0.0</td>\n",
       "      <td>0.0</td>\n",
       "      <td>162.0</td>\n",
       "      <td>2.5</td>\n",
       "      <td>1040.0</td>\n",
       "      <td>676.0</td>\n",
       "      <td>28</td>\n",
       "      <td>79.99</td>\n",
       "    </tr>\n",
       "    <tr>\n",
       "      <th>1</th>\n",
       "      <td>540.0</td>\n",
       "      <td>0.0</td>\n",
       "      <td>0.0</td>\n",
       "      <td>162.0</td>\n",
       "      <td>2.5</td>\n",
       "      <td>1055.0</td>\n",
       "      <td>676.0</td>\n",
       "      <td>28</td>\n",
       "      <td>61.89</td>\n",
       "    </tr>\n",
       "    <tr>\n",
       "      <th>2</th>\n",
       "      <td>332.5</td>\n",
       "      <td>142.5</td>\n",
       "      <td>0.0</td>\n",
       "      <td>228.0</td>\n",
       "      <td>0.0</td>\n",
       "      <td>932.0</td>\n",
       "      <td>594.0</td>\n",
       "      <td>270</td>\n",
       "      <td>40.27</td>\n",
       "    </tr>\n",
       "    <tr>\n",
       "      <th>3</th>\n",
       "      <td>332.5</td>\n",
       "      <td>142.5</td>\n",
       "      <td>0.0</td>\n",
       "      <td>228.0</td>\n",
       "      <td>0.0</td>\n",
       "      <td>932.0</td>\n",
       "      <td>594.0</td>\n",
       "      <td>365</td>\n",
       "      <td>41.05</td>\n",
       "    </tr>\n",
       "    <tr>\n",
       "      <th>4</th>\n",
       "      <td>198.6</td>\n",
       "      <td>132.4</td>\n",
       "      <td>0.0</td>\n",
       "      <td>192.0</td>\n",
       "      <td>0.0</td>\n",
       "      <td>978.4</td>\n",
       "      <td>825.5</td>\n",
       "      <td>360</td>\n",
       "      <td>44.30</td>\n",
       "    </tr>\n",
       "  </tbody>\n",
       "</table>\n",
       "</div>"
      ],
      "text/plain": [
       "   Cement  Blast Furnace Slag  Fly Ash  Water  Superplasticizer  \\\n",
       "0   540.0                 0.0      0.0  162.0               2.5   \n",
       "1   540.0                 0.0      0.0  162.0               2.5   \n",
       "2   332.5               142.5      0.0  228.0               0.0   \n",
       "3   332.5               142.5      0.0  228.0               0.0   \n",
       "4   198.6               132.4      0.0  192.0               0.0   \n",
       "\n",
       "   Coarse Aggregate  Fine Aggregate  Age  Strength  \n",
       "0            1040.0           676.0   28     79.99  \n",
       "1            1055.0           676.0   28     61.89  \n",
       "2             932.0           594.0  270     40.27  \n",
       "3             932.0           594.0  365     41.05  \n",
       "4             978.4           825.5  360     44.30  "
      ]
     },
     "execution_count": 4,
     "metadata": {},
     "output_type": "execute_result"
    }
   ],
   "source": [
    "#read data as pandas dataframe\n",
    "concrete_data = pd.read_csv('concrete_data.csv')\n",
    "concrete_data.head()"
   ]
  },
  {
   "cell_type": "markdown",
   "metadata": {},
   "source": [
    "The dataset is about the compressive strength of different samples of concrete based on the volumes of the different ingredients that were used to make them. Ingredients include:\n",
    "\n",
    "1. Cement\n",
    "\n",
    "2. Blast Furnace Slag\n",
    "\n",
    "3. Fly Ash\n",
    "\n",
    "4. Water\n",
    "\n",
    "5. Superplasticizer\n",
    "\n",
    "6. Coarse Aggregate\n",
    "\n",
    "7. Fine Aggregate"
   ]
  },
  {
   "cell_type": "markdown",
   "metadata": {},
   "source": [
    "By Observing, we can say that the first concrete sample has 540 cubic meter of cement, 0 cubic meter of blast furnace slag, 0 cubic meter of fly ash, 162 cubic meter of water, 2.5 cubic meter of superplaticizer, 1040 cubic meter of coarse aggregate, 676 cubic meter of fine aggregate. Such a concrete mix which is 28 days old, has a compressive strength of 79.99 MPa.\n"
   ]
  },
  {
   "cell_type": "markdown",
   "metadata": {},
   "source": [
    "Let's take a look at our data:"
   ]
  },
  {
   "cell_type": "code",
   "execution_count": 5,
   "metadata": {},
   "outputs": [
    {
     "data": {
      "text/html": [
       "<div>\n",
       "<style scoped>\n",
       "    .dataframe tbody tr th:only-of-type {\n",
       "        vertical-align: middle;\n",
       "    }\n",
       "\n",
       "    .dataframe tbody tr th {\n",
       "        vertical-align: top;\n",
       "    }\n",
       "\n",
       "    .dataframe thead th {\n",
       "        text-align: right;\n",
       "    }\n",
       "</style>\n",
       "<table border=\"1\" class=\"dataframe\">\n",
       "  <thead>\n",
       "    <tr style=\"text-align: right;\">\n",
       "      <th></th>\n",
       "      <th>Cement</th>\n",
       "      <th>Blast Furnace Slag</th>\n",
       "      <th>Fly Ash</th>\n",
       "      <th>Water</th>\n",
       "      <th>Superplasticizer</th>\n",
       "      <th>Coarse Aggregate</th>\n",
       "      <th>Fine Aggregate</th>\n",
       "      <th>Age</th>\n",
       "      <th>Strength</th>\n",
       "    </tr>\n",
       "  </thead>\n",
       "  <tbody>\n",
       "    <tr>\n",
       "      <th>count</th>\n",
       "      <td>1030.000000</td>\n",
       "      <td>1030.000000</td>\n",
       "      <td>1030.000000</td>\n",
       "      <td>1030.000000</td>\n",
       "      <td>1030.000000</td>\n",
       "      <td>1030.000000</td>\n",
       "      <td>1030.000000</td>\n",
       "      <td>1030.000000</td>\n",
       "      <td>1030.000000</td>\n",
       "    </tr>\n",
       "    <tr>\n",
       "      <th>mean</th>\n",
       "      <td>281.167864</td>\n",
       "      <td>73.895825</td>\n",
       "      <td>54.188350</td>\n",
       "      <td>181.567282</td>\n",
       "      <td>6.204660</td>\n",
       "      <td>972.918932</td>\n",
       "      <td>773.580485</td>\n",
       "      <td>45.662136</td>\n",
       "      <td>35.817961</td>\n",
       "    </tr>\n",
       "    <tr>\n",
       "      <th>std</th>\n",
       "      <td>104.506364</td>\n",
       "      <td>86.279342</td>\n",
       "      <td>63.997004</td>\n",
       "      <td>21.354219</td>\n",
       "      <td>5.973841</td>\n",
       "      <td>77.753954</td>\n",
       "      <td>80.175980</td>\n",
       "      <td>63.169912</td>\n",
       "      <td>16.705742</td>\n",
       "    </tr>\n",
       "    <tr>\n",
       "      <th>min</th>\n",
       "      <td>102.000000</td>\n",
       "      <td>0.000000</td>\n",
       "      <td>0.000000</td>\n",
       "      <td>121.800000</td>\n",
       "      <td>0.000000</td>\n",
       "      <td>801.000000</td>\n",
       "      <td>594.000000</td>\n",
       "      <td>1.000000</td>\n",
       "      <td>2.330000</td>\n",
       "    </tr>\n",
       "    <tr>\n",
       "      <th>25%</th>\n",
       "      <td>192.375000</td>\n",
       "      <td>0.000000</td>\n",
       "      <td>0.000000</td>\n",
       "      <td>164.900000</td>\n",
       "      <td>0.000000</td>\n",
       "      <td>932.000000</td>\n",
       "      <td>730.950000</td>\n",
       "      <td>7.000000</td>\n",
       "      <td>23.710000</td>\n",
       "    </tr>\n",
       "    <tr>\n",
       "      <th>50%</th>\n",
       "      <td>272.900000</td>\n",
       "      <td>22.000000</td>\n",
       "      <td>0.000000</td>\n",
       "      <td>185.000000</td>\n",
       "      <td>6.400000</td>\n",
       "      <td>968.000000</td>\n",
       "      <td>779.500000</td>\n",
       "      <td>28.000000</td>\n",
       "      <td>34.445000</td>\n",
       "    </tr>\n",
       "    <tr>\n",
       "      <th>75%</th>\n",
       "      <td>350.000000</td>\n",
       "      <td>142.950000</td>\n",
       "      <td>118.300000</td>\n",
       "      <td>192.000000</td>\n",
       "      <td>10.200000</td>\n",
       "      <td>1029.400000</td>\n",
       "      <td>824.000000</td>\n",
       "      <td>56.000000</td>\n",
       "      <td>46.135000</td>\n",
       "    </tr>\n",
       "    <tr>\n",
       "      <th>max</th>\n",
       "      <td>540.000000</td>\n",
       "      <td>359.400000</td>\n",
       "      <td>200.100000</td>\n",
       "      <td>247.000000</td>\n",
       "      <td>32.200000</td>\n",
       "      <td>1145.000000</td>\n",
       "      <td>992.600000</td>\n",
       "      <td>365.000000</td>\n",
       "      <td>82.600000</td>\n",
       "    </tr>\n",
       "  </tbody>\n",
       "</table>\n",
       "</div>"
      ],
      "text/plain": [
       "            Cement  Blast Furnace Slag      Fly Ash        Water  \\\n",
       "count  1030.000000         1030.000000  1030.000000  1030.000000   \n",
       "mean    281.167864           73.895825    54.188350   181.567282   \n",
       "std     104.506364           86.279342    63.997004    21.354219   \n",
       "min     102.000000            0.000000     0.000000   121.800000   \n",
       "25%     192.375000            0.000000     0.000000   164.900000   \n",
       "50%     272.900000           22.000000     0.000000   185.000000   \n",
       "75%     350.000000          142.950000   118.300000   192.000000   \n",
       "max     540.000000          359.400000   200.100000   247.000000   \n",
       "\n",
       "       Superplasticizer  Coarse Aggregate  Fine Aggregate          Age  \\\n",
       "count       1030.000000       1030.000000     1030.000000  1030.000000   \n",
       "mean           6.204660        972.918932      773.580485    45.662136   \n",
       "std            5.973841         77.753954       80.175980    63.169912   \n",
       "min            0.000000        801.000000      594.000000     1.000000   \n",
       "25%            0.000000        932.000000      730.950000     7.000000   \n",
       "50%            6.400000        968.000000      779.500000    28.000000   \n",
       "75%           10.200000       1029.400000      824.000000    56.000000   \n",
       "max           32.200000       1145.000000      992.600000   365.000000   \n",
       "\n",
       "          Strength  \n",
       "count  1030.000000  \n",
       "mean     35.817961  \n",
       "std      16.705742  \n",
       "min       2.330000  \n",
       "25%      23.710000  \n",
       "50%      34.445000  \n",
       "75%      46.135000  \n",
       "max      82.600000  "
      ]
     },
     "execution_count": 5,
     "metadata": {},
     "output_type": "execute_result"
    }
   ],
   "source": [
    "#Describe data\n",
    "concrete_data.describe()"
   ]
  },
  {
   "cell_type": "code",
   "execution_count": 6,
   "metadata": {},
   "outputs": [
    {
     "data": {
      "text/plain": [
       "(1030, 9)"
      ]
     },
     "execution_count": 6,
     "metadata": {},
     "output_type": "execute_result"
    }
   ],
   "source": [
    "#Shape of the dataframe in (rows, columns)\n",
    "concrete_data.shape"
   ]
  },
  {
   "cell_type": "markdown",
   "metadata": {},
   "source": [
    "Checking for the null values"
   ]
  },
  {
   "cell_type": "code",
   "execution_count": 7,
   "metadata": {},
   "outputs": [
    {
     "data": {
      "text/plain": [
       "Cement                0\n",
       "Blast Furnace Slag    0\n",
       "Fly Ash               0\n",
       "Water                 0\n",
       "Superplasticizer      0\n",
       "Coarse Aggregate      0\n",
       "Fine Aggregate        0\n",
       "Age                   0\n",
       "Strength              0\n",
       "dtype: int64"
      ]
     },
     "execution_count": 7,
     "metadata": {},
     "output_type": "execute_result"
    }
   ],
   "source": [
    "#Checking the missing values\n",
    "concrete_data.isnull().sum()"
   ]
  },
  {
   "cell_type": "markdown",
   "metadata": {},
   "source": [
    "We have no missing data and the dataset looks pretty clean. So, we can use this data for training/testing purpose to build our model."
   ]
  },
  {
   "cell_type": "markdown",
   "metadata": {},
   "source": [
    "Let's separate features and target variables."
   ]
  },
  {
   "cell_type": "code",
   "execution_count": 8,
   "metadata": {},
   "outputs": [],
   "source": [
    "#Separaring Features and Target in to X and y\n",
    "concrete_data_columns = concrete_data.columns\n",
    "X = concrete_data[concrete_data_columns[concrete_data_columns != 'Strength']] # all columns except Strength\n",
    "y= concrete_data['Strength'] # Strength column"
   ]
  },
  {
   "cell_type": "code",
   "execution_count": 9,
   "metadata": {},
   "outputs": [
    {
     "data": {
      "text/plain": [
       "8"
      ]
     },
     "execution_count": 9,
     "metadata": {},
     "output_type": "execute_result"
    }
   ],
   "source": [
    "#Calculate number of predictors\n",
    "n_predictors = X.shape[1]\n",
    "n_predictors"
   ]
  },
  {
   "cell_type": "markdown",
   "metadata": {},
   "source": [
    "### Normalizing Data"
   ]
  },
  {
   "cell_type": "markdown",
   "metadata": {},
   "source": [
    "One way to normalize the data is by subtracting the mean from the individual predictors and dividing by the standard deviation. We can achieve that by using StandardScaler from scikit-learn library."
   ]
  },
  {
   "cell_type": "code",
   "execution_count": 10,
   "metadata": {},
   "outputs": [],
   "source": [
    "from sklearn.preprocessing import StandardScaler\n",
    "scaler_x = StandardScaler()\n",
    "scaler_y = StandardScaler()"
   ]
  },
  {
   "cell_type": "code",
   "execution_count": 11,
   "metadata": {
    "scrolled": false
   },
   "outputs": [
    {
     "data": {
      "text/plain": [
       "StandardScaler()"
      ]
     },
     "execution_count": 11,
     "metadata": {},
     "output_type": "execute_result"
    }
   ],
   "source": [
    "scaler_x.fit(X.values)"
   ]
  },
  {
   "cell_type": "code",
   "execution_count": 12,
   "metadata": {},
   "outputs": [],
   "source": [
    "X = scaler_x.transform(X.values)"
   ]
  },
  {
   "cell_type": "code",
   "execution_count": 13,
   "metadata": {},
   "outputs": [
    {
     "data": {
      "text/plain": [
       "StandardScaler()"
      ]
     },
     "execution_count": 13,
     "metadata": {},
     "output_type": "execute_result"
    }
   ],
   "source": [
    "scaler_y.fit(y.values.reshape(-1, 1))"
   ]
  },
  {
   "cell_type": "code",
   "execution_count": 14,
   "metadata": {},
   "outputs": [],
   "source": [
    "y = scaler_y.transform(y.values.reshape(-1, 1))"
   ]
  },
  {
   "cell_type": "markdown",
   "metadata": {},
   "source": [
    "### Building a Neural Network"
   ]
  },
  {
   "cell_type": "code",
   "execution_count": 15,
   "metadata": {},
   "outputs": [],
   "source": [
    "#importing Keras\n",
    "import keras"
   ]
  },
  {
   "cell_type": "markdown",
   "metadata": {},
   "source": [
    "Let's import the rest of the packages from the Keras library that we will need to build our regressoin model."
   ]
  },
  {
   "cell_type": "code",
   "execution_count": 16,
   "metadata": {},
   "outputs": [],
   "source": [
    "from keras.models import Sequential\n",
    "from keras.layers import Dense"
   ]
  },
  {
   "cell_type": "markdown",
   "metadata": {},
   "source": [
    "Let's define a function that defines our regression model for us so that we can conveniently call it to create our model."
   ]
  },
  {
   "cell_type": "code",
   "execution_count": 17,
   "metadata": {},
   "outputs": [],
   "source": [
    "# define regression model\n",
    "def keras_regression_model():\n",
    "    # create model\n",
    "    model = Sequential()\n",
    "    model.add(Dense(7, input_dim = n_predictors, activation = 'relu', kernel_initializer = 'normal'))\n",
    "    model.add(Dense(10, activation='relu', input_shape=(n_predictors,)))\n",
    "    model.add(Dense(1))\n",
    "    \n",
    "    # compile model\n",
    "    model.compile(optimizer='adam', loss='mean_squared_error')\n",
    "    return model"
   ]
  },
  {
   "cell_type": "code",
   "execution_count": 18,
   "metadata": {},
   "outputs": [],
   "source": [
    "#Calling function to create our linear regression model\n",
    "model = keras_regression_model()"
   ]
  },
  {
   "cell_type": "markdown",
   "metadata": {},
   "source": [
    "Splitting the training and testing set:"
   ]
  },
  {
   "cell_type": "code",
   "execution_count": 19,
   "metadata": {},
   "outputs": [
    {
     "data": {
      "text/plain": [
       "(1030, 8)"
      ]
     },
     "execution_count": 19,
     "metadata": {},
     "output_type": "execute_result"
    }
   ],
   "source": [
    "X.shape"
   ]
  },
  {
   "cell_type": "code",
   "execution_count": 20,
   "metadata": {},
   "outputs": [
    {
     "data": {
      "text/plain": [
       "(1030, 1)"
      ]
     },
     "execution_count": 20,
     "metadata": {},
     "output_type": "execute_result"
    }
   ],
   "source": [
    "y.shape"
   ]
  },
  {
   "cell_type": "code",
   "execution_count": 21,
   "metadata": {},
   "outputs": [
    {
     "name": "stdout",
     "output_type": "stream",
     "text": [
      "Training Set: 721 rows\n",
      "Test Set: 309 rows\n"
     ]
    }
   ],
   "source": [
    "#import train_test_split\n",
    "from sklearn.model_selection import train_test_split\n",
    "\n",
    "# Split data 70%-30% into training set and test set\n",
    "X_train, X_test, y_train, y_test = train_test_split(X, y, test_size=0.30, random_state=42)\n",
    "\n",
    "print ('Training Set: %d rows\\nTest Set: %d rows' % (X_train.shape[0], X_test.shape[0]))"
   ]
  },
  {
   "cell_type": "markdown",
   "metadata": {},
   "source": [
    "### Train and Test our model"
   ]
  },
  {
   "cell_type": "code",
   "execution_count": 22,
   "metadata": {},
   "outputs": [
    {
     "name": "stdout",
     "output_type": "stream",
     "text": [
      "Epoch 1/100\n",
      "721/721 [==============================] - 1s 2ms/step - loss: 0.6061\n",
      "Epoch 2/100\n",
      "721/721 [==============================] - 1s 1ms/step - loss: 0.3319\n",
      "Epoch 3/100\n",
      "721/721 [==============================] - 1s 1ms/step - loss: 0.2498\n",
      "Epoch 4/100\n",
      "721/721 [==============================] - 1s 1ms/step - loss: 0.2066\n",
      "Epoch 5/100\n",
      "721/721 [==============================] - 1s 2ms/step - loss: 0.1795\n",
      "Epoch 6/100\n",
      "721/721 [==============================] - 1s 1ms/step - loss: 0.1678\n",
      "Epoch 7/100\n",
      "721/721 [==============================] - 1s 2ms/step - loss: 0.1612\n",
      "Epoch 8/100\n",
      "721/721 [==============================] - 1s 1ms/step - loss: 0.1602\n",
      "Epoch 9/100\n",
      "721/721 [==============================] - 1s 1ms/step - loss: 0.1579\n",
      "Epoch 10/100\n",
      "721/721 [==============================] - 1s 1ms/step - loss: 0.1520\n",
      "Epoch 11/100\n",
      "721/721 [==============================] - 1s 2ms/step - loss: 0.1482\n",
      "Epoch 12/100\n",
      "721/721 [==============================] - 1s 2ms/step - loss: 0.1442\n",
      "Epoch 13/100\n",
      "721/721 [==============================] - 1s 2ms/step - loss: 0.1471\n",
      "Epoch 14/100\n",
      "721/721 [==============================] - 1s 2ms/step - loss: 0.1452\n",
      "Epoch 15/100\n",
      "721/721 [==============================] - 1s 2ms/step - loss: 0.1404\n",
      "Epoch 16/100\n",
      "721/721 [==============================] - 1s 2ms/step - loss: 0.1414\n",
      "Epoch 17/100\n",
      "721/721 [==============================] - 1s 2ms/step - loss: 0.1351\n",
      "Epoch 18/100\n",
      "721/721 [==============================] - 1s 2ms/step - loss: 0.1376\n",
      "Epoch 19/100\n",
      "721/721 [==============================] - 1s 2ms/step - loss: 0.1336\n",
      "Epoch 20/100\n",
      "721/721 [==============================] - 1s 2ms/step - loss: 0.1300\n",
      "Epoch 21/100\n",
      "721/721 [==============================] - 1s 2ms/step - loss: 0.1291\n",
      "Epoch 22/100\n",
      "721/721 [==============================] - 1s 2ms/step - loss: 0.1247\n",
      "Epoch 23/100\n",
      "721/721 [==============================] - 1s 2ms/step - loss: 0.1287\n",
      "Epoch 24/100\n",
      "721/721 [==============================] - 1s 2ms/step - loss: 0.1244\n",
      "Epoch 25/100\n",
      "721/721 [==============================] - 1s 2ms/step - loss: 0.1205A: 0s - l\n",
      "Epoch 26/100\n",
      "721/721 [==============================] - 1s 2ms/step - loss: 0.1212\n",
      "Epoch 27/100\n",
      "721/721 [==============================] - 1s 2ms/step - loss: 0.1178\n",
      "Epoch 28/100\n",
      "721/721 [==============================] - 1s 2ms/step - loss: 0.1168\n",
      "Epoch 29/100\n",
      "721/721 [==============================] - 1s 2ms/step - loss: 0.1181\n",
      "Epoch 30/100\n",
      "721/721 [==============================] - 1s 2ms/step - loss: 0.1173\n",
      "Epoch 31/100\n",
      "721/721 [==============================] - 1s 2ms/step - loss: 0.1187\n",
      "Epoch 32/100\n",
      "721/721 [==============================] - 1s 2ms/step - loss: 0.1183A: 0s - l\n",
      "Epoch 33/100\n",
      "721/721 [==============================] - 1s 2ms/step - loss: 0.1134\n",
      "Epoch 34/100\n",
      "721/721 [==============================] - 1s 2ms/step - loss: 0.1136\n",
      "Epoch 35/100\n",
      "721/721 [==============================] - 1s 2ms/step - loss: 0.1134\n",
      "Epoch 36/100\n",
      "721/721 [==============================] - 1s 2ms/step - loss: 0.1119\n",
      "Epoch 37/100\n",
      "721/721 [==============================] - 1s 2ms/step - loss: 0.1100\n",
      "Epoch 38/100\n",
      "721/721 [==============================] - 1s 1ms/step - loss: 0.1070\n",
      "Epoch 39/100\n",
      "721/721 [==============================] - 1s 2ms/step - loss: 0.1089\n",
      "Epoch 40/100\n",
      "721/721 [==============================] - 1s 2ms/step - loss: 0.1063\n",
      "Epoch 41/100\n",
      "721/721 [==============================] - 1s 1ms/step - loss: 0.1088\n",
      "Epoch 42/100\n",
      "721/721 [==============================] - 1s 1ms/step - loss: 0.1042\n",
      "Epoch 43/100\n",
      "721/721 [==============================] - 1s 2ms/step - loss: 0.1076\n",
      "Epoch 44/100\n",
      "721/721 [==============================] - 1s 2ms/step - loss: 0.1014\n",
      "Epoch 45/100\n",
      "721/721 [==============================] - 1s 2ms/step - loss: 0.1047\n",
      "Epoch 46/100\n",
      "721/721 [==============================] - 1s 2ms/step - loss: 0.1046\n",
      "Epoch 47/100\n",
      "721/721 [==============================] - 1s 2ms/step - loss: 0.1015\n",
      "Epoch 48/100\n",
      "721/721 [==============================] - 1s 2ms/step - loss: 0.1003\n",
      "Epoch 49/100\n",
      "721/721 [==============================] - 1s 2ms/step - loss: 0.1047\n",
      "Epoch 50/100\n",
      "721/721 [==============================] - 1s 2ms/step - loss: 0.1021\n",
      "Epoch 51/100\n",
      "721/721 [==============================] - 1s 2ms/step - loss: 0.0981\n",
      "Epoch 52/100\n",
      "721/721 [==============================] - 1s 2ms/step - loss: 0.0986\n",
      "Epoch 53/100\n",
      "721/721 [==============================] - 1s 1ms/step - loss: 0.0989\n",
      "Epoch 54/100\n",
      "721/721 [==============================] - 1s 2ms/step - loss: 0.1023\n",
      "Epoch 55/100\n",
      "721/721 [==============================] - 1s 2ms/step - loss: 0.0970\n",
      "Epoch 56/100\n",
      "721/721 [==============================] - 1s 1ms/step - loss: 0.0990\n",
      "Epoch 57/100\n",
      "721/721 [==============================] - 1s 2ms/step - loss: 0.0967\n",
      "Epoch 58/100\n",
      "721/721 [==============================] - 1s 2ms/step - loss: 0.0967\n",
      "Epoch 59/100\n",
      "721/721 [==============================] - 1s 2ms/step - loss: 0.0947\n",
      "Epoch 60/100\n",
      "721/721 [==============================] - 1s 1ms/step - loss: 0.0988\n",
      "Epoch 61/100\n",
      "721/721 [==============================] - 1s 2ms/step - loss: 0.0970\n",
      "Epoch 62/100\n",
      "721/721 [==============================] - 1s 2ms/step - loss: 0.0954\n",
      "Epoch 63/100\n",
      "721/721 [==============================] - 1s 2ms/step - loss: 0.0962\n",
      "Epoch 64/100\n",
      "721/721 [==============================] - 1s 2ms/step - loss: 0.0941\n",
      "Epoch 65/100\n",
      "721/721 [==============================] - 1s 2ms/step - loss: 0.0953\n",
      "Epoch 66/100\n",
      "721/721 [==============================] - 1s 2ms/step - loss: 0.0996\n",
      "Epoch 67/100\n",
      "721/721 [==============================] - 1s 2ms/step - loss: 0.0961\n",
      "Epoch 68/100\n",
      "721/721 [==============================] - 1s 2ms/step - loss: 0.0926\n",
      "Epoch 69/100\n",
      "721/721 [==============================] - 1s 1ms/step - loss: 0.0963\n",
      "Epoch 70/100\n",
      "721/721 [==============================] - 1s 2ms/step - loss: 0.0945\n",
      "Epoch 71/100\n",
      "721/721 [==============================] - 1s 2ms/step - loss: 0.0951\n",
      "Epoch 72/100\n",
      "721/721 [==============================] - 1s 2ms/step - loss: 0.0931\n",
      "Epoch 73/100\n",
      "721/721 [==============================] - 1s 2ms/step - loss: 0.0939\n",
      "Epoch 74/100\n",
      "721/721 [==============================] - 1s 2ms/step - loss: 0.0934\n",
      "Epoch 75/100\n",
      "721/721 [==============================] - 1s 2ms/step - loss: 0.0938\n",
      "Epoch 76/100\n",
      "721/721 [==============================] - 1s 2ms/step - loss: 0.0913\n",
      "Epoch 77/100\n",
      "721/721 [==============================] - 1s 2ms/step - loss: 0.0936\n",
      "Epoch 78/100\n",
      "721/721 [==============================] - 1s 2ms/step - loss: 0.0928\n",
      "Epoch 79/100\n",
      "721/721 [==============================] - 1s 2ms/step - loss: 0.0958\n",
      "Epoch 80/100\n",
      "721/721 [==============================] - 1s 2ms/step - loss: 0.0938\n",
      "Epoch 81/100\n",
      "721/721 [==============================] - 1s 2ms/step - loss: 0.0936\n",
      "Epoch 82/100\n",
      "721/721 [==============================] - 1s 2ms/step - loss: 0.0913\n",
      "Epoch 83/100\n",
      "721/721 [==============================] - 1s 2ms/step - loss: 0.0911\n",
      "Epoch 84/100\n",
      "721/721 [==============================] - 1s 2ms/step - loss: 0.0923\n",
      "Epoch 85/100\n",
      "721/721 [==============================] - 1s 2ms/step - loss: 0.0917\n",
      "Epoch 86/100\n",
      "721/721 [==============================] - 1s 2ms/step - loss: 0.0937\n",
      "Epoch 87/100\n",
      "721/721 [==============================] - 1s 1ms/step - loss: 0.0936\n",
      "Epoch 88/100\n",
      "721/721 [==============================] - 1s 2ms/step - loss: 0.0898\n",
      "Epoch 89/100\n",
      "721/721 [==============================] - 1s 1ms/step - loss: 0.0915\n",
      "Epoch 90/100\n",
      "721/721 [==============================] - 1s 1ms/step - loss: 0.0867\n",
      "Epoch 91/100\n",
      "721/721 [==============================] - 1s 1ms/step - loss: 0.0900\n",
      "Epoch 92/100\n",
      "721/721 [==============================] - 1s 2ms/step - loss: 0.0913\n",
      "Epoch 93/100\n",
      "721/721 [==============================] - 1s 2ms/step - loss: 0.0890\n",
      "Epoch 94/100\n",
      "721/721 [==============================] - 1s 2ms/step - loss: 0.0906\n",
      "Epoch 95/100\n",
      "721/721 [==============================] - 1s 2ms/step - loss: 0.0880\n",
      "Epoch 96/100\n",
      "721/721 [==============================] - 1s 2ms/step - loss: 0.0870\n",
      "Epoch 97/100\n",
      "721/721 [==============================] - 1s 2ms/step - loss: 0.0899\n",
      "Epoch 98/100\n",
      "721/721 [==============================] - 1s 2ms/step - loss: 0.0890\n",
      "Epoch 99/100\n",
      "721/721 [==============================] - 1s 2ms/step - loss: 0.0900\n",
      "Epoch 100/100\n",
      "721/721 [==============================] - 1s 2ms/step - loss: 0.0875\n"
     ]
    },
    {
     "data": {
      "text/plain": [
       "<keras.callbacks.History at 0x7f2659411880>"
      ]
     },
     "execution_count": 22,
     "metadata": {},
     "output_type": "execute_result"
    }
   ],
   "source": [
    "#fit the model\n",
    "model.fit(X_train, y_train, epochs = 100, batch_size = 1, verbose = 1)"
   ]
  },
  {
   "cell_type": "markdown",
   "metadata": {},
   "source": [
    "Now, we need to compute the mean squared error between the predicted concrete strength and actual concrete strength."
   ]
  },
  {
   "cell_type": "code",
   "execution_count": 23,
   "metadata": {},
   "outputs": [
    {
     "name": "stdout",
     "output_type": "stream",
     "text": [
      "10/10 [==============================] - 0s 2ms/step - loss: 0.1195\n"
     ]
    },
    {
     "data": {
      "text/plain": [
       "0.11950109899044037"
      ]
     },
     "execution_count": 23,
     "metadata": {},
     "output_type": "execute_result"
    }
   ],
   "source": [
    "loss_val = model.evaluate(X_test, y_test)\n",
    "y_pred = model.predict(X_test)\n",
    "loss_val"
   ]
  },
  {
   "cell_type": "markdown",
   "metadata": {},
   "source": [
    "Now we need to compute the mean squared error between the predicted concrete strength and the actual concrete strength.\n",
    "\n",
    "Let's import the mean_squared_error function from Scikit-learn."
   ]
  },
  {
   "cell_type": "code",
   "execution_count": 24,
   "metadata": {},
   "outputs": [],
   "source": [
    "from sklearn.metrics import mean_squared_error"
   ]
  },
  {
   "cell_type": "code",
   "execution_count": 25,
   "metadata": {},
   "outputs": [
    {
     "name": "stdout",
     "output_type": "stream",
     "text": [
      "0.11950110685380853 0.0\n"
     ]
    }
   ],
   "source": [
    "mean_square_error = mean_squared_error(y_test, y_pred)\n",
    "mean = np.mean(mean_square_error)\n",
    "standard_deviation = np.std(mean_square_error)\n",
    "print(mean, standard_deviation)"
   ]
  },
  {
   "cell_type": "markdown",
   "metadata": {},
   "source": [
    "Create a list of 50 mean squared errors and report mean and the standard deviation of the mean squared errors."
   ]
  },
  {
   "cell_type": "code",
   "execution_count": 26,
   "metadata": {
    "scrolled": true
   },
   "outputs": [
    {
     "name": "stdout",
     "output_type": "stream",
     "text": [
      "MSE 1: 0.09464956820011139\n",
      "MSE 2: 0.10868679732084274\n",
      "MSE 3: 0.08215875178575516\n",
      "MSE 4: 0.10704444348812103\n",
      "MSE 5: 0.10965120047330856\n",
      "MSE 6: 0.09855325520038605\n",
      "MSE 7: 0.10937166959047318\n",
      "MSE 8: 0.09167394042015076\n",
      "MSE 9: 0.0823744684457779\n",
      "MSE 10: 0.08952374756336212\n",
      "MSE 11: 0.08933090418577194\n",
      "MSE 12: 0.08340597152709961\n",
      "MSE 13: 0.09674689173698425\n",
      "MSE 14: 0.10684134066104889\n",
      "MSE 15: 0.10298468172550201\n",
      "MSE 16: 0.07161027938127518\n",
      "MSE 17: 0.08240627497434616\n",
      "MSE 18: 0.08384758979082108\n",
      "MSE 19: 0.07925184071063995\n",
      "MSE 20: 0.0955071896314621\n",
      "MSE 21: 0.08149358630180359\n",
      "MSE 22: 0.08185593783855438\n",
      "MSE 23: 0.07695651799440384\n",
      "MSE 24: 0.0860125720500946\n",
      "MSE 25: 0.09047441929578781\n",
      "MSE 26: 0.09425070136785507\n",
      "MSE 27: 0.07574217766523361\n",
      "MSE 28: 0.07223625481128693\n",
      "MSE 29: 0.09104837477207184\n",
      "MSE 30: 0.07376134395599365\n",
      "MSE 31: 0.08006925880908966\n",
      "MSE 32: 0.07296254485845566\n",
      "MSE 33: 0.060960400849580765\n",
      "MSE 34: 0.07911510765552521\n",
      "MSE 35: 0.08001738786697388\n",
      "MSE 36: 0.08382760733366013\n",
      "MSE 37: 0.05947817489504814\n",
      "MSE 38: 0.07417884469032288\n",
      "MSE 39: 0.07799959182739258\n",
      "MSE 40: 0.07716716080904007\n",
      "MSE 41: 0.07955706864595413\n",
      "MSE 42: 0.07593083381652832\n",
      "MSE 43: 0.09035614877939224\n",
      "MSE 44: 0.08308175206184387\n",
      "MSE 45: 0.08668380230665207\n",
      "MSE 46: 0.09884200990200043\n",
      "MSE 47: 0.07155895233154297\n",
      "MSE 48: 0.08764157444238663\n",
      "MSE 49: 0.08536019921302795\n",
      "MSE 50: 0.07894584536552429\n",
      "MSE 51: 0.07348541170358658\n",
      "MSE 52: 0.07420879602432251\n",
      "MSE 53: 0.0824495181441307\n",
      "MSE 54: 0.07846488803625107\n",
      "MSE 55: 0.09638350456953049\n",
      "MSE 56: 0.06998477131128311\n",
      "MSE 57: 0.07485497742891312\n",
      "MSE 58: 0.07807289063930511\n",
      "MSE 59: 0.08356989920139313\n",
      "MSE 60: 0.07886049151420593\n",
      "MSE 61: 0.07931523770093918\n",
      "MSE 62: 0.07463457435369492\n",
      "MSE 63: 0.06924574077129364\n",
      "MSE 64: 0.07521111518144608\n",
      "MSE 65: 0.07969263941049576\n",
      "MSE 66: 0.07639288157224655\n",
      "MSE 67: 0.08313990384340286\n",
      "MSE 68: 0.09369150549173355\n",
      "MSE 69: 0.07663062959909439\n",
      "MSE 70: 0.07649819552898407\n",
      "MSE 71: 0.07694111764431\n",
      "MSE 72: 0.07747281342744827\n",
      "MSE 73: 0.07319136708974838\n",
      "MSE 74: 0.06767010688781738\n",
      "MSE 75: 0.0670197531580925\n",
      "MSE 76: 0.08926016837358475\n",
      "MSE 77: 0.07348600775003433\n",
      "MSE 78: 0.06613176316022873\n",
      "MSE 79: 0.08118803054094315\n",
      "MSE 80: 0.07972445338964462\n",
      "MSE 81: 0.06248900666832924\n",
      "MSE 82: 0.07995704561471939\n",
      "MSE 83: 0.07669198513031006\n",
      "MSE 84: 0.07770498842000961\n",
      "MSE 85: 0.07394107431173325\n",
      "MSE 86: 0.07226859778165817\n",
      "MSE 87: 0.07950921356678009\n",
      "MSE 88: 0.0759265199303627\n",
      "MSE 89: 0.07159234583377838\n",
      "MSE 90: 0.07838200777769089\n",
      "MSE 91: 0.07140505313873291\n",
      "MSE 92: 0.06987828016281128\n",
      "MSE 93: 0.06551435589790344\n",
      "MSE 94: 0.07172487676143646\n",
      "MSE 95: 0.06604170054197311\n",
      "MSE 96: 0.07105498015880585\n",
      "MSE 97: 0.08006975799798965\n",
      "MSE 98: 0.0761275589466095\n",
      "MSE 99: 0.07669328153133392\n",
      "MSE 100: 0.07216751575469971\n",
      "\n",
      "\n",
      "Below is the mean and standard deviation of 100 mean squared errors with normalized data. \n",
      "Total number of epochs for each training is: 100\n",
      "\n",
      "Mean: 0.08069200137431735\n",
      "Standard Deviation: 0.010547439967418155\n"
     ]
    }
   ],
   "source": [
    "total_mean_squared_errors = 100\n",
    "epochs = 100\n",
    "mean_squared_errors = []\n",
    "for i in range(0, total_mean_squared_errors):\n",
    "    X_train, X_test, y_train, y_test = train_test_split(X, y, test_size=0.3, random_state=i)\n",
    "    model.fit(X_train, y_train, epochs=epochs, verbose=0)\n",
    "    MSE = model.evaluate(X_test, y_test, verbose=0)\n",
    "    print(\"MSE \"+str(i+1)+\": \"+str(MSE))\n",
    "    y_pred = model.predict(X_test)\n",
    "    mean_square_error = mean_squared_error(y_test, y_pred)\n",
    "    mean_squared_errors.append(mean_square_error)\n",
    "\n",
    "mean_squared_errors = np.array(mean_squared_errors)\n",
    "mean = np.mean(mean_squared_errors)\n",
    "standard_deviation = np.std(mean_squared_errors)\n",
    "\n",
    "print('\\n')\n",
    "print(\"Below is the mean and standard deviation of \" +str(total_mean_squared_errors) + \" mean squared errors with normalized data. \"+\"\\n\"+ \"Total number of epochs for each training is: \" +str(epochs) + \"\\n\")\n",
    "print(\"Mean: \"+str(mean))\n",
    "print(\"Standard Deviation: \"+str(standard_deviation))"
   ]
  },
  {
   "cell_type": "markdown",
   "metadata": {},
   "source": [
    "Mean and Standard Deviation of MSE is a little bit better when epoch = 100 vs when epoch = 50 but there's not much of a difference."
   ]
  }
 ],
 "metadata": {
  "kernelspec": {
   "display_name": "Python 3 (ipykernel)",
   "language": "python",
   "name": "python3"
  },
  "language_info": {
   "codemirror_mode": {
    "name": "ipython",
    "version": 3
   },
   "file_extension": ".py",
   "mimetype": "text/x-python",
   "name": "python",
   "nbconvert_exporter": "python",
   "pygments_lexer": "ipython3",
   "version": "3.9.12"
  }
 },
 "nbformat": 4,
 "nbformat_minor": 1
}
